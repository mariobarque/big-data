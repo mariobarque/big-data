{
 "cells": [
  {
   "cell_type": "markdown",
   "metadata": {
    "collapsed": true
   },
   "source": [
    "## Datos de entrada\n",
    "\n",
    "El set de datos seleccionado consta de las construcciones en Costa Rica realizadas por el sector privado extraido por medio de una encuesta anual que se realiza por el Instituo Nacional de Estadísticas y Censo (INEC) desde el año 2002 hasta el año 2018 con excepción del año 2008 que no se realizó esta encuesta.\n",
    "\n",
    "Nombre | Etiqueta | Pregunta | Tipo de dato\n",
    "--- | --- | --- | ---\n",
    "anoper | Año del permiso | Fecha (año): | Numérico\n",
    "num_obras | Número de obras | Indique Nº de obras:  | Numérico\n",
    "arecon | Area de construcción | Área de construcción (metros cuadrados m2)  | Numérico\n",
    "valobr | Valor de la obra | Valor de la obra (Colones):  | Numérico\n",
    "claper | Clase del permiso | Permiso para:  | Categórico\n",
    "claobr | Clase de la obra | Clase de obra: | Categórico\n",
    "numpis | Número de pisos | Número de pisos | Numérico\n",
    "numviv | Número de viviendas | Nº de viviendas (incluye apartamentos). | Numérico\n",
    "numapo | Número de aposentos | Nº total de aposentos | Numérico\n",
    "numdor | Número de dormitorios | Nº de aposentos usados como dormitorios | Numérico\n",
    "matpis | Material de piso | Materiales predominantes. Pisos: | Categórico\n",
    "matpar | Material de pared | Materiales predominantes. Paredes: | Categórico\n",
    "mattec | Material de techo | Materiales predominantes. Techos: | Categórico\n",
    "usoobr | Uso de la obra | La construcción de la obra será para: | Categórico\n",
    "financ | Financiamiento | Financiamiento (Marque únicamente el de mayor aporte): | Categórico\n",
    "cod_provincia | Codigo Provincia | Codigo Provincia | Categórico\n",
    "provincia | Nombre Provincia | Nombre Provincia | Texto (se ingora)\n",
    "id_canton | Codigo Canton | Codigo Canton | Categórico (se ignora)\n",
    "canton | Nombre Canton | Nombre Canton | Texto (se ignora)\n",
    "id_region | Codigo Region | Codigo Region | Categórico\n",
    "cat | Categoría | **Valor de predicción** | Categórico binario. \n",
    "\n",
    "\n",
    "Todos estas columnas menos la columna *id_region* son tomados de la encuesta realizada por el INEC. La columna *id_region* es calculada utilizando la siguente [referencia](https://es.wikipedia.org/wiki/Regiones_socioecon%C3%B3micas_de_Costa_Rica).\n"
   ]
  },
  {
   "cell_type": "code",
   "execution_count": 79,
   "metadata": {},
   "outputs": [],
   "source": [
    "## IMPORTANTE - Variables locales. Modificar\n",
    "\n",
    "spark_home_location = '/usr/local/Cellar/apache-spark/2.4.4/libexec/'\n",
    "database_name = 'postgres'\n",
    "database_user_name = 'mario'\n",
    "database_password = ''\n",
    "database_table = 'tarea3'"
   ]
  },
  {
   "cell_type": "markdown",
   "metadata": {},
   "source": [
    "## Preprocesamiento de datos"
   ]
  },
  {
   "cell_type": "code",
   "execution_count": 113,
   "metadata": {},
   "outputs": [
    {
     "name": "stdout",
     "output_type": "stream",
     "text": [
      "+---------+------+------+------+---------+------+------+------+---+\n",
      "|num_obras|arecon|numpis|numdor|id_region|financ|matpis|matpar|cat|\n",
      "+---------+------+------+------+---------+------+------+------+---+\n",
      "|        1|  4585|    10|    64|        1|     1|    33|     1|  1|\n",
      "|        1|   323|     2|     4|        1|    99|    22|     1|  1|\n",
      "|        2|   162|     1|     2|        1|    99|    22|     1|  1|\n",
      "|        1|   763|     2|     5|        1|    99|    34|     1|  1|\n",
      "|        1|   212|     2|     3|        1|    99|    22|    27|  1|\n",
      "|        1|    42|     1|     2|        1|    99|     7|     8|  0|\n",
      "|        1|   103|     1|     3|        1|    99|    22|     1|  1|\n",
      "|        1|    46|     1|     2|        1|    99|     7|     8|  0|\n",
      "|        1|    42|     1|     2|        1|    99|     7|     8|  0|\n",
      "|        1|    42|     1|     2|        1|     6|     7|     8|  0|\n",
      "|        1|    42|     1|     2|        1|     6|     7|     8|  0|\n",
      "|        1|    42|     1|     2|        1|     6|     7|     8|  0|\n",
      "|        1|    42|     1|     2|        1|     6|     7|     8|  0|\n",
      "|        1|    70|     1|     3|        1|    99|     7|     8|  1|\n",
      "|        1|    42|     1|     2|        4|     6|     7|     8|  0|\n",
      "|        1|    42|     1|     2|        4|     6|     7|     8|  0|\n",
      "|        1|    42|     1|     2|        4|     6|     7|     8|  0|\n",
      "|        1|    42|     1|     2|        4|     6|     7|     8|  0|\n",
      "|        1|    42|     1|     2|        4|    99|     7|     8|  0|\n",
      "|        1|    42|     1|     2|        4|    99|     7|     8|  0|\n",
      "+---------+------+------+------+---------+------+------+------+---+\n",
      "only showing top 20 rows\n",
      "\n"
     ]
    }
   ],
   "source": [
    "import findspark\n",
    "import pandas as pd\n",
    "import matplotlib.pyplot as plt\n",
    "\n",
    "findspark.init(spark_home_location)\n",
    "\n",
    "from pyspark.sql.types import (StringType, LongType, BinaryType, StructField, StructType)\n",
    "\n",
    "from pyspark.sql import SparkSession\n",
    "\n",
    "spark = SparkSession \\\n",
    "    .builder \\\n",
    "    .appName(\"Basic JDBC pipeline\") \\\n",
    "    .config(\"spark.driver.extraClassPath\", \"postgresql-42.1.4.jar\") \\\n",
    "    .config(\"spark.executor.extraClassPath\", \"postgresql-42.1.4.jar\") \\\n",
    "    .getOrCreate()\n",
    "\n",
    "construction_df = spark \\\n",
    "    .read \\\n",
    "    .format(\"csv\") \\\n",
    "    .option(\"path\", \"construction_data.csv\") \\\n",
    "    .option(\"header\", True) \\\n",
    "    .schema(StructType([\n",
    "                StructField(\"anoper\", StringType()),\n",
    "                StructField(\"num_obras\", LongType()),\n",
    "                StructField(\"arecon\", LongType()),\n",
    "                StructField(\"valobr\", LongType()),\n",
    "                StructField(\"claper\", LongType()),\n",
    "                StructField(\"claobr\", LongType()),\n",
    "                StructField(\"numpis\", LongType()),\n",
    "                StructField(\"numviv\", LongType()),\n",
    "                StructField(\"numapo\", LongType()),\n",
    "                StructField(\"numdor\", LongType()),\n",
    "                StructField(\"matpis\", LongType()),\n",
    "                StructField(\"matpar\", LongType()),\n",
    "                StructField(\"mattec\", LongType()),\n",
    "                StructField(\"usoobr\", LongType()),\n",
    "                StructField(\"financ\", LongType()),\n",
    "                StructField(\"cod_provincia\", LongType()),\n",
    "                StructField(\"provincia\", StringType()),\n",
    "                StructField(\"id_canton\", LongType()),\n",
    "                StructField(\"canton\", StringType()),\n",
    "                StructField(\"id_region\", LongType()),\n",
    "                StructField(\"cat\", LongType())])) \\\n",
    "    .load()\n",
    "\n",
    "columns_kept = ['num_obras', 'arecon', 'numpis', 'numdor',\n",
    "                'id_region', 'financ', 'matpis', 'matpar', 'cat']\n",
    "construction_df = construction_df.select(columns_kept)\n",
    "\n",
    "construction_df.show()"
   ]
  },
  {
   "cell_type": "markdown",
   "metadata": {},
   "source": [
    "## Guardar en base de datos"
   ]
  },
  {
   "cell_type": "code",
   "execution_count": 114,
   "metadata": {},
   "outputs": [],
   "source": [
    "construction_df \\\n",
    "    .write \\\n",
    "    .format(\"jdbc\") \\\n",
    "    .mode('overwrite') \\\n",
    "    .option(\"url\", \"jdbc:postgresql://localhost/\" + database_name) \\\n",
    "    .option(\"user\", database_user_name) \\\n",
    "    .option(\"password\", database_password) \\\n",
    "    .option(\"dbtable\", database_table) \\\n",
    "    .save()"
   ]
  },
  {
   "cell_type": "markdown",
   "metadata": {},
   "source": [
    "## Estandarización"
   ]
  },
  {
   "cell_type": "code",
   "execution_count": 115,
   "metadata": {},
   "outputs": [
    {
     "data": {
      "text/plain": [
       "<matplotlib.axes._subplots.AxesSubplot at 0x11de73c50>"
      ]
     },
     "execution_count": 115,
     "metadata": {},
     "output_type": "execute_result"
    },
    {
     "data": {
      "image/png": "[encoded data removed]",
      "text/plain": [
       "<Figure size 432x288 with 2 Axes>"
      ]
     },
     "metadata": {
      "needs_background": "light"
     },
     "output_type": "display_data"
    }
   ],
   "source": [
    "from pyspark.ml.feature import StandardScaler\n",
    "from pyspark.ml.feature import VectorAssembler\n",
    "from pyspark.ml.stat import Correlation\n",
    "import seaborn as sns\n",
    "import matplotlib.pyplot as plt\n",
    "\n",
    "\n",
    "# read the data\n",
    "construction_df = spark \\\n",
    "    .read \\\n",
    "    .format(\"jdbc\") \\\n",
    "    .option(\"url\", \"jdbc:postgresql://localhost/\" + database_name) \\\n",
    "    .option(\"user\", database_user_name) \\\n",
    "    .option(\"password\", database_password) \\\n",
    "    .option(\"dbtable\", database_table) \\\n",
    "    .load()\n",
    "\n",
    "# create the vector assembler and standarize the dataset\n",
    "assembler = VectorAssembler(\n",
    "    inputCols=['num_obras', 'arecon', 'numpis', 'numdor',\n",
    "               'id_region', 'financ', 'matpis', 'matpar'],\n",
    "    outputCol='features')\n",
    "\n",
    "vector_df = assembler.transform(construction_df)\n",
    "vector_df = vector_df.select(['features', 'cat'])\n",
    "\n",
    "standard_scaler = StandardScaler(inputCol='features', outputCol='features_scaled')\n",
    "scale_model = standard_scaler.fit(vector_df)\n",
    "construction_scaled_df = scale_model.transform(vector_df).select('features_scaled', 'cat')\n",
    "\n",
    "# run the correlation\n",
    "pearson_matrix = Correlation.corr(construction_scaled_df, 'features_scaled').collect()[0][0]\n",
    "sns.heatmap(pearson_matrix.toArray(), annot=True, fmt=\".2f\", cmap='viridis')"
   ]
  },
  {
   "cell_type": "code",
   "execution_count": 122,
   "metadata": {},
   "outputs": [
    {
     "name": "stdout",
     "output_type": "stream",
     "text": [
      "RMSE: 0.4315811918621775\n",
      "R2: 0.18826994139665598\n",
      "RMSE: 0.43158119186217764\n",
      "R2: 0.18826994139665576\n",
      "RMSE: 0.43158119186217764\n",
      "R2: 0.18826994139665576\n",
      "RMSE: 0.4315811918621775\n",
      "R2: 0.18826994139665598\n"
     ]
    },
    {
     "ename": "KeyboardInterrupt",
     "evalue": "",
     "output_type": "error",
     "traceback": [
      "\u001b[0;31m---------------------------------------------------------------------------\u001b[0m",
      "\u001b[0;31mKeyboardInterrupt\u001b[0m                         Traceback (most recent call last)",
      "\u001b[0;32m<ipython-input-122-9f6c6df8f187>\u001b[0m in \u001b[0;36m<module>\u001b[0;34m\u001b[0m\n\u001b[1;32m     34\u001b[0m \u001b[0;34m\u001b[0m\u001b[0m\n\u001b[1;32m     35\u001b[0m     \u001b[0mregression\u001b[0m \u001b[0;34m=\u001b[0m \u001b[0mLinearRegression\u001b[0m\u001b[0;34m(\u001b[0m\u001b[0mfeaturesCol\u001b[0m\u001b[0;34m=\u001b[0m\u001b[0;34m'features_scaled'\u001b[0m\u001b[0;34m,\u001b[0m \u001b[0mlabelCol\u001b[0m\u001b[0;34m=\u001b[0m\u001b[0;34m'cat'\u001b[0m\u001b[0;34m)\u001b[0m\u001b[0;34m\u001b[0m\u001b[0m\n\u001b[0;32m---> 36\u001b[0;31m     \u001b[0mregression_model\u001b[0m \u001b[0;34m=\u001b[0m \u001b[0mregression\u001b[0m\u001b[0;34m.\u001b[0m\u001b[0mfit\u001b[0m\u001b[0;34m(\u001b[0m\u001b[0mscaled_df\u001b[0m\u001b[0;34m)\u001b[0m\u001b[0;34m\u001b[0m\u001b[0m\n\u001b[0m\u001b[1;32m     37\u001b[0m \u001b[0;34m\u001b[0m\u001b[0m\n\u001b[1;32m     38\u001b[0m     \u001b[0mprint\u001b[0m\u001b[0;34m(\u001b[0m\u001b[0;34m'RMSE: '\u001b[0m \u001b[0;34m+\u001b[0m \u001b[0mstr\u001b[0m\u001b[0;34m(\u001b[0m\u001b[0mregression_model\u001b[0m\u001b[0;34m.\u001b[0m\u001b[0msummary\u001b[0m\u001b[0;34m.\u001b[0m\u001b[0mrootMeanSquaredError\u001b[0m\u001b[0;34m)\u001b[0m\u001b[0;34m)\u001b[0m\u001b[0;34m\u001b[0m\u001b[0m\n",
      "\u001b[0;32m/usr/local/Cellar/apache-spark/2.4.4/libexec/python/pyspark/ml/base.py\u001b[0m in \u001b[0;36mfit\u001b[0;34m(self, dataset, params)\u001b[0m\n\u001b[1;32m    130\u001b[0m                 \u001b[0;32mreturn\u001b[0m \u001b[0mself\u001b[0m\u001b[0;34m.\u001b[0m\u001b[0mcopy\u001b[0m\u001b[0;34m(\u001b[0m\u001b[0mparams\u001b[0m\u001b[0;34m)\u001b[0m\u001b[0;34m.\u001b[0m\u001b[0m_fit\u001b[0m\u001b[0;34m(\u001b[0m\u001b[0mdataset\u001b[0m\u001b[0;34m)\u001b[0m\u001b[0;34m\u001b[0m\u001b[0m\n\u001b[1;32m    131\u001b[0m             \u001b[0;32melse\u001b[0m\u001b[0;34m:\u001b[0m\u001b[0;34m\u001b[0m\u001b[0m\n\u001b[0;32m--> 132\u001b[0;31m                 \u001b[0;32mreturn\u001b[0m \u001b[0mself\u001b[0m\u001b[0;34m.\u001b[0m\u001b[0m_fit\u001b[0m\u001b[0;34m(\u001b[0m\u001b[0mdataset\u001b[0m\u001b[0;34m)\u001b[0m\u001b[0;34m\u001b[0m\u001b[0m\n\u001b[0m\u001b[1;32m    133\u001b[0m         \u001b[0;32melse\u001b[0m\u001b[0;34m:\u001b[0m\u001b[0;34m\u001b[0m\u001b[0m\n\u001b[1;32m    134\u001b[0m             raise ValueError(\"Params must be either a param map or a list/tuple of param maps, \"\n",
      "\u001b[0;32m/usr/local/Cellar/apache-spark/2.4.4/libexec/python/pyspark/ml/wrapper.py\u001b[0m in \u001b[0;36m_fit\u001b[0;34m(self, dataset)\u001b[0m\n\u001b[1;32m    293\u001b[0m \u001b[0;34m\u001b[0m\u001b[0m\n\u001b[1;32m    294\u001b[0m     \u001b[0;32mdef\u001b[0m \u001b[0m_fit\u001b[0m\u001b[0;34m(\u001b[0m\u001b[0mself\u001b[0m\u001b[0;34m,\u001b[0m \u001b[0mdataset\u001b[0m\u001b[0;34m)\u001b[0m\u001b[0;34m:\u001b[0m\u001b[0;34m\u001b[0m\u001b[0m\n\u001b[0;32m--> 295\u001b[0;31m         \u001b[0mjava_model\u001b[0m \u001b[0;34m=\u001b[0m \u001b[0mself\u001b[0m\u001b[0;34m.\u001b[0m\u001b[0m_fit_java\u001b[0m\u001b[0;34m(\u001b[0m\u001b[0mdataset\u001b[0m\u001b[0;34m)\u001b[0m\u001b[0;34m\u001b[0m\u001b[0m\n\u001b[0m\u001b[1;32m    296\u001b[0m         \u001b[0mmodel\u001b[0m \u001b[0;34m=\u001b[0m \u001b[0mself\u001b[0m\u001b[0;34m.\u001b[0m\u001b[0m_create_model\u001b[0m\u001b[0;34m(\u001b[0m\u001b[0mjava_model\u001b[0m\u001b[0;34m)\u001b[0m\u001b[0;34m\u001b[0m\u001b[0m\n\u001b[1;32m    297\u001b[0m         \u001b[0;32mreturn\u001b[0m \u001b[0mself\u001b[0m\u001b[0;34m.\u001b[0m\u001b[0m_copyValues\u001b[0m\u001b[0;34m(\u001b[0m\u001b[0mmodel\u001b[0m\u001b[0;34m)\u001b[0m\u001b[0;34m\u001b[0m\u001b[0m\n",
      "\u001b[0;32m/usr/local/Cellar/apache-spark/2.4.4/libexec/python/pyspark/ml/wrapper.py\u001b[0m in \u001b[0;36m_fit_java\u001b[0;34m(self, dataset)\u001b[0m\n\u001b[1;32m    290\u001b[0m         \"\"\"\n\u001b[1;32m    291\u001b[0m         \u001b[0mself\u001b[0m\u001b[0;34m.\u001b[0m\u001b[0m_transfer_params_to_java\u001b[0m\u001b[0;34m(\u001b[0m\u001b[0;34m)\u001b[0m\u001b[0;34m\u001b[0m\u001b[0m\n\u001b[0;32m--> 292\u001b[0;31m         \u001b[0;32mreturn\u001b[0m \u001b[0mself\u001b[0m\u001b[0;34m.\u001b[0m\u001b[0m_java_obj\u001b[0m\u001b[0;34m.\u001b[0m\u001b[0mfit\u001b[0m\u001b[0;34m(\u001b[0m\u001b[0mdataset\u001b[0m\u001b[0;34m.\u001b[0m\u001b[0m_jdf\u001b[0m\u001b[0;34m)\u001b[0m\u001b[0;34m\u001b[0m\u001b[0m\n\u001b[0m\u001b[1;32m    293\u001b[0m \u001b[0;34m\u001b[0m\u001b[0m\n\u001b[1;32m    294\u001b[0m     \u001b[0;32mdef\u001b[0m \u001b[0m_fit\u001b[0m\u001b[0;34m(\u001b[0m\u001b[0mself\u001b[0m\u001b[0;34m,\u001b[0m \u001b[0mdataset\u001b[0m\u001b[0;34m)\u001b[0m\u001b[0;34m:\u001b[0m\u001b[0;34m\u001b[0m\u001b[0m\n",
      "\u001b[0;32m/usr/local/Cellar/apache-spark/2.4.4/libexec/python/lib/py4j-0.10.7-src.zip/py4j/java_gateway.py\u001b[0m in \u001b[0;36m__call__\u001b[0;34m(self, *args)\u001b[0m\n\u001b[1;32m   1253\u001b[0m             \u001b[0mproto\u001b[0m\u001b[0;34m.\u001b[0m\u001b[0mEND_COMMAND_PART\u001b[0m\u001b[0;34m\u001b[0m\u001b[0m\n\u001b[1;32m   1254\u001b[0m \u001b[0;34m\u001b[0m\u001b[0m\n\u001b[0;32m-> 1255\u001b[0;31m         \u001b[0manswer\u001b[0m \u001b[0;34m=\u001b[0m \u001b[0mself\u001b[0m\u001b[0;34m.\u001b[0m\u001b[0mgateway_client\u001b[0m\u001b[0;34m.\u001b[0m\u001b[0msend_command\u001b[0m\u001b[0;34m(\u001b[0m\u001b[0mcommand\u001b[0m\u001b[0;34m)\u001b[0m\u001b[0;34m\u001b[0m\u001b[0m\n\u001b[0m\u001b[1;32m   1256\u001b[0m         return_value = get_return_value(\n\u001b[1;32m   1257\u001b[0m             answer, self.gateway_client, self.target_id, self.name)\n",
      "\u001b[0;32m/usr/local/Cellar/apache-spark/2.4.4/libexec/python/lib/py4j-0.10.7-src.zip/py4j/java_gateway.py\u001b[0m in \u001b[0;36msend_command\u001b[0;34m(self, command, retry, binary)\u001b[0m\n\u001b[1;32m    983\u001b[0m         \u001b[0mconnection\u001b[0m \u001b[0;34m=\u001b[0m \u001b[0mself\u001b[0m\u001b[0;34m.\u001b[0m\u001b[0m_get_connection\u001b[0m\u001b[0;34m(\u001b[0m\u001b[0;34m)\u001b[0m\u001b[0;34m\u001b[0m\u001b[0m\n\u001b[1;32m    984\u001b[0m         \u001b[0;32mtry\u001b[0m\u001b[0;34m:\u001b[0m\u001b[0;34m\u001b[0m\u001b[0m\n\u001b[0;32m--> 985\u001b[0;31m             \u001b[0mresponse\u001b[0m \u001b[0;34m=\u001b[0m \u001b[0mconnection\u001b[0m\u001b[0;34m.\u001b[0m\u001b[0msend_command\u001b[0m\u001b[0;34m(\u001b[0m\u001b[0mcommand\u001b[0m\u001b[0;34m)\u001b[0m\u001b[0;34m\u001b[0m\u001b[0m\n\u001b[0m\u001b[1;32m    986\u001b[0m             \u001b[0;32mif\u001b[0m \u001b[0mbinary\u001b[0m\u001b[0;34m:\u001b[0m\u001b[0;34m\u001b[0m\u001b[0m\n\u001b[1;32m    987\u001b[0m                 \u001b[0;32mreturn\u001b[0m \u001b[0mresponse\u001b[0m\u001b[0;34m,\u001b[0m \u001b[0mself\u001b[0m\u001b[0;34m.\u001b[0m\u001b[0m_create_connection_guard\u001b[0m\u001b[0;34m(\u001b[0m\u001b[0mconnection\u001b[0m\u001b[0;34m)\u001b[0m\u001b[0;34m\u001b[0m\u001b[0m\n",
      "\u001b[0;32m/usr/local/Cellar/apache-spark/2.4.4/libexec/python/lib/py4j-0.10.7-src.zip/py4j/java_gateway.py\u001b[0m in \u001b[0;36msend_command\u001b[0;34m(self, command)\u001b[0m\n\u001b[1;32m   1150\u001b[0m \u001b[0;34m\u001b[0m\u001b[0m\n\u001b[1;32m   1151\u001b[0m         \u001b[0;32mtry\u001b[0m\u001b[0;34m:\u001b[0m\u001b[0;34m\u001b[0m\u001b[0m\n\u001b[0;32m-> 1152\u001b[0;31m             \u001b[0manswer\u001b[0m \u001b[0;34m=\u001b[0m \u001b[0msmart_decode\u001b[0m\u001b[0;34m(\u001b[0m\u001b[0mself\u001b[0m\u001b[0;34m.\u001b[0m\u001b[0mstream\u001b[0m\u001b[0;34m.\u001b[0m\u001b[0mreadline\u001b[0m\u001b[0;34m(\u001b[0m\u001b[0;34m)\u001b[0m\u001b[0;34m[\u001b[0m\u001b[0;34m:\u001b[0m\u001b[0;34m-\u001b[0m\u001b[0;36m1\u001b[0m\u001b[0;34m]\u001b[0m\u001b[0;34m)\u001b[0m\u001b[0;34m\u001b[0m\u001b[0m\n\u001b[0m\u001b[1;32m   1153\u001b[0m             \u001b[0mlogger\u001b[0m\u001b[0;34m.\u001b[0m\u001b[0mdebug\u001b[0m\u001b[0;34m(\u001b[0m\u001b[0;34m\"Answer received: {0}\"\u001b[0m\u001b[0;34m.\u001b[0m\u001b[0mformat\u001b[0m\u001b[0;34m(\u001b[0m\u001b[0manswer\u001b[0m\u001b[0;34m)\u001b[0m\u001b[0;34m)\u001b[0m\u001b[0;34m\u001b[0m\u001b[0m\n\u001b[1;32m   1154\u001b[0m             \u001b[0;32mif\u001b[0m \u001b[0manswer\u001b[0m\u001b[0;34m.\u001b[0m\u001b[0mstartswith\u001b[0m\u001b[0;34m(\u001b[0m\u001b[0mproto\u001b[0m\u001b[0;34m.\u001b[0m\u001b[0mRETURN_MESSAGE\u001b[0m\u001b[0;34m)\u001b[0m\u001b[0;34m:\u001b[0m\u001b[0;34m\u001b[0m\u001b[0m\n",
      "\u001b[0;32m/usr/local/Cellar/python/3.7.0/Frameworks/Python.framework/Versions/3.7/lib/python3.7/socket.py\u001b[0m in \u001b[0;36mreadinto\u001b[0;34m(self, b)\u001b[0m\n\u001b[1;32m    587\u001b[0m         \u001b[0;32mwhile\u001b[0m \u001b[0;32mTrue\u001b[0m\u001b[0;34m:\u001b[0m\u001b[0;34m\u001b[0m\u001b[0m\n\u001b[1;32m    588\u001b[0m             \u001b[0;32mtry\u001b[0m\u001b[0;34m:\u001b[0m\u001b[0;34m\u001b[0m\u001b[0m\n\u001b[0;32m--> 589\u001b[0;31m                 \u001b[0;32mreturn\u001b[0m \u001b[0mself\u001b[0m\u001b[0;34m.\u001b[0m\u001b[0m_sock\u001b[0m\u001b[0;34m.\u001b[0m\u001b[0mrecv_into\u001b[0m\u001b[0;34m(\u001b[0m\u001b[0mb\u001b[0m\u001b[0;34m)\u001b[0m\u001b[0;34m\u001b[0m\u001b[0m\n\u001b[0m\u001b[1;32m    590\u001b[0m             \u001b[0;32mexcept\u001b[0m \u001b[0mtimeout\u001b[0m\u001b[0;34m:\u001b[0m\u001b[0;34m\u001b[0m\u001b[0m\n\u001b[1;32m    591\u001b[0m                 \u001b[0mself\u001b[0m\u001b[0;34m.\u001b[0m\u001b[0m_timeout_occurred\u001b[0m \u001b[0;34m=\u001b[0m \u001b[0;32mTrue\u001b[0m\u001b[0;34m\u001b[0m\u001b[0m\n",
      "\u001b[0;31mKeyboardInterrupt\u001b[0m: "
     ]
    }
   ],
   "source": [
    "from pyspark.sql.functions import row_number, col\n",
    "from pyspark.sql.window import Window\n",
    "from pyspark.ml.regression import LinearRegression\n",
    "\n",
    "# Split test and train\n",
    "train_df, test_df = construction_scaled_df.randomSplit([0.9, 0.1])\n",
    "\n",
    "# This trick is to add a unique incremental rownumber\n",
    "split_df = train_df.withColumn('col',lit('ABC'))\n",
    "split_df = split_df.withColumn(\"row_num\", row_number() \\\n",
    "                   .over(Window().partitionBy('col').orderBy('col'))) \\\n",
    "                   .drop('col')\n",
    "\n",
    "# Split the dataset into k groups\n",
    "k = 9\n",
    "group_size = int(df.count() / k)\n",
    "\n",
    "group_dfs = []\n",
    "for group_index in range(k):\n",
    "    min_row_num = group_index * group_size\n",
    "    max_row_num = (group_index + 1) * group_size\n",
    "    filter_expression = 'row_num >= {0} and row_num < {1}'.format(min_row_num, max_row_num)\n",
    "    group_dfs.append(split_df.filter(filter_expression))\n",
    "    \n",
    "\n",
    "for i in range(k):\n",
    "    df_cross_val_train = spark.createDataFrame(spark.sparkContext.emptyRDD(), split_df.schema)\n",
    "    df_cross_val_test = spark.createDataFrame(spark.sparkContext.emptyRDD(), split_df.schema)\n",
    "    for j in range(k):\n",
    "        if i == j:\n",
    "            df_cross_val_test = df_cross_val_test.union(group_dfs[j])\n",
    "        else:\n",
    "            df_cross_val_train = df_cross_val_train.union(group_dfs[j])    \n",
    "\n",
    "    regression = LinearRegression(featuresCol='features_scaled', labelCol='cat')\n",
    "    regression_model = regression.fit(scaled_df)\n",
    "    \n",
    "    print('RMSE: ' + str(regression_model.summary.rootMeanSquaredError))\n",
    "    print('R2: ' + str(regression_model.summary.r2))\n",
    "\n",
    "    \n"
   ]
  },
  {
   "cell_type": "code",
   "execution_count": null,
   "metadata": {},
   "outputs": [],
   "source": []
  }
 ],
 "metadata": {
  "kernelspec": {
   "display_name": "Python 3",
   "language": "python",
   "name": "python3"
  },
  "language_info": {
   "codemirror_mode": {
    "name": "ipython",
    "version": 3
   },
   "file_extension": ".py",
   "mimetype": "text/x-python",
   "name": "python",
   "nbconvert_exporter": "python",
   "pygments_lexer": "ipython3",
   "version": "3.7.0"
  }
 },
 "nbformat": 4,
 "nbformat_minor": 1
}
